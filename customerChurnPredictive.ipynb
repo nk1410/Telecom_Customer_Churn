{
 "cells": [
  {
   "cell_type": "code",
   "execution_count": 1,
   "metadata": {},
   "outputs": [],
   "source": [
    "import pandas as pd\n",
    "import numpy as np\n",
    "import matplotlib.pyplot as plt\n",
    "import seaborn as sns\n",
    "import joblib\n",
    "from sklearn.model_selection import train_test_split\n",
    "from sklearn.ensemble import RandomForestClassifier\n",
    "from sklearn.metrics import classification_report, confusion_matrix\n",
    "from sklearn.preprocessing import LabelEncoder"
   ]
  },
  {
   "cell_type": "code",
   "execution_count": 3,
   "metadata": {},
   "outputs": [
    {
     "name": "stdout",
     "output_type": "stream",
     "text": [
      "  Customer_ID  Gender  Age Married           State  Number_of_Referrals  \\\n",
      "0   11098-MAD  Female   30     Yes  Madhya Pradesh                    0   \n",
      "1   11114-PUN    Male   51      No          Punjab                    5   \n",
      "2   11167-WES  Female   43     Yes     West Bengal                    3   \n",
      "3   11179-MAH    Male   35      No     Maharashtra                   10   \n",
      "4   11180-TAM    Male   75     Yes      Tamil Nadu                   12   \n",
      "\n",
      "   Tenure_in_Months Value_Deal Phone_Service Multiple_Lines  ...  \\\n",
      "0                31     Deal 1           Yes             No  ...   \n",
      "1                 9     Deal 5           Yes             No  ...   \n",
      "2                28     Deal 1           Yes            Yes  ...   \n",
      "3                12       None           Yes             No  ...   \n",
      "4                27     Deal 2           Yes             No  ...   \n",
      "\n",
      "    Payment_Method Monthly_Charge Total_Charges Total_Refunds  \\\n",
      "0  Bank Withdrawal      95.099998   6683.399902          0.00   \n",
      "1  Bank Withdrawal      49.150002    169.050003          0.00   \n",
      "2  Bank Withdrawal     116.050003   8297.500000         42.57   \n",
      "3      Credit Card      84.400002   5969.299805          0.00   \n",
      "4      Credit Card      72.599998   4084.350098          0.00   \n",
      "\n",
      "  Total_Extra_Data_Charges Total_Long_Distance_Charges Total_Revenue  \\\n",
      "0                        0                  631.719971   7315.120117   \n",
      "1                       10                  122.370003    301.420013   \n",
      "2                      110                 1872.979980  10237.910156   \n",
      "3                        0                  219.389999   6188.689941   \n",
      "4                      140                  332.079987   4556.430176   \n",
      "\n",
      "  Customer_Status Churn_Category                   Churn_Reason  \n",
      "0          Stayed         Others                         Others  \n",
      "1         Churned     Competitor  Competitor had better devices  \n",
      "2          Stayed         Others                         Others  \n",
      "3          Stayed         Others                         Others  \n",
      "4          Stayed         Others                         Others  \n",
      "\n",
      "[5 rows x 32 columns]\n"
     ]
    }
   ],
   "source": [
    "filepath=r\"D:\\powerbi customer churn analysis\\Data\\PredictiveData.xlsx\"\n",
    "sheet_name='vw_customerchurn'\n",
    "data=pd.read_excel(filepath,sheet_name=sheet_name)\n",
    "\n",
    "print(data.head())"
   ]
  },
  {
   "cell_type": "markdown",
   "metadata": {},
   "source": [
    "### DATA PREPROCESSING\n"
   ]
  },
  {
   "cell_type": "code",
   "execution_count": 4,
   "metadata": {},
   "outputs": [],
   "source": [
    "data=data.drop(['Customer_ID', 'Churn_Category','Churn_Reason'],axis=1)"
   ]
  },
  {
   "cell_type": "code",
   "execution_count": 5,
   "metadata": {},
   "outputs": [
    {
     "data": {
      "text/plain": [
       "Index(['Gender', 'Age', 'Married', 'State', 'Number_of_Referrals',\n",
       "       'Tenure_in_Months', 'Value_Deal', 'Phone_Service', 'Multiple_Lines',\n",
       "       'Internet_Service', 'Internet_Type', 'Online_Security', 'Online_Backup',\n",
       "       'Device_Protection_Plan', 'Premium_Support', 'Streaming_TV',\n",
       "       'Streaming_Movies', 'Streaming_Music', 'Unlimited_Data', 'Contract',\n",
       "       'Paperless_Billing', 'Payment_Method', 'Monthly_Charge',\n",
       "       'Total_Charges', 'Total_Refunds', 'Total_Extra_Data_Charges',\n",
       "       'Total_Long_Distance_Charges', 'Total_Revenue', 'Customer_Status'],\n",
       "      dtype='object')"
      ]
     },
     "execution_count": 5,
     "metadata": {},
     "output_type": "execute_result"
    }
   ],
   "source": [
    "data.columns"
   ]
  },
  {
   "cell_type": "code",
   "execution_count": 8,
   "metadata": {},
   "outputs": [
    {
     "data": {
      "text/html": [
       "<div>\n",
       "<style scoped>\n",
       "    .dataframe tbody tr th:only-of-type {\n",
       "        vertical-align: middle;\n",
       "    }\n",
       "\n",
       "    .dataframe tbody tr th {\n",
       "        vertical-align: top;\n",
       "    }\n",
       "\n",
       "    .dataframe thead th {\n",
       "        text-align: right;\n",
       "    }\n",
       "</style>\n",
       "<table border=\"1\" class=\"dataframe\">\n",
       "  <thead>\n",
       "    <tr style=\"text-align: right;\">\n",
       "      <th></th>\n",
       "      <th>count</th>\n",
       "      <th>mean</th>\n",
       "      <th>std</th>\n",
       "      <th>min</th>\n",
       "      <th>25%</th>\n",
       "      <th>50%</th>\n",
       "      <th>75%</th>\n",
       "      <th>max</th>\n",
       "    </tr>\n",
       "  </thead>\n",
       "  <tbody>\n",
       "    <tr>\n",
       "      <th>Age</th>\n",
       "      <td>6007.0</td>\n",
       "      <td>47.289163</td>\n",
       "      <td>16.805110</td>\n",
       "      <td>18.000000</td>\n",
       "      <td>33.000000</td>\n",
       "      <td>47.000000</td>\n",
       "      <td>60.000000</td>\n",
       "      <td>84.000000</td>\n",
       "    </tr>\n",
       "    <tr>\n",
       "      <th>Number_of_Referrals</th>\n",
       "      <td>6007.0</td>\n",
       "      <td>7.439820</td>\n",
       "      <td>4.622369</td>\n",
       "      <td>0.000000</td>\n",
       "      <td>3.000000</td>\n",
       "      <td>7.000000</td>\n",
       "      <td>11.000000</td>\n",
       "      <td>15.000000</td>\n",
       "    </tr>\n",
       "    <tr>\n",
       "      <th>Tenure_in_Months</th>\n",
       "      <td>6007.0</td>\n",
       "      <td>17.394540</td>\n",
       "      <td>10.592920</td>\n",
       "      <td>1.000000</td>\n",
       "      <td>8.000000</td>\n",
       "      <td>17.000000</td>\n",
       "      <td>27.000000</td>\n",
       "      <td>36.000000</td>\n",
       "    </tr>\n",
       "    <tr>\n",
       "      <th>Monthly_Charge</th>\n",
       "      <td>6007.0</td>\n",
       "      <td>65.087598</td>\n",
       "      <td>31.067808</td>\n",
       "      <td>-10.000000</td>\n",
       "      <td>35.950001</td>\n",
       "      <td>71.099998</td>\n",
       "      <td>90.449997</td>\n",
       "      <td>118.750000</td>\n",
       "    </tr>\n",
       "    <tr>\n",
       "      <th>Total_Charges</th>\n",
       "      <td>6007.0</td>\n",
       "      <td>2430.986173</td>\n",
       "      <td>2267.481295</td>\n",
       "      <td>19.100000</td>\n",
       "      <td>539.949982</td>\n",
       "      <td>1556.849976</td>\n",
       "      <td>4013.900024</td>\n",
       "      <td>8684.799805</td>\n",
       "    </tr>\n",
       "    <tr>\n",
       "      <th>Total_Refunds</th>\n",
       "      <td>6007.0</td>\n",
       "      <td>2.038612</td>\n",
       "      <td>8.065520</td>\n",
       "      <td>0.000000</td>\n",
       "      <td>0.000000</td>\n",
       "      <td>0.000000</td>\n",
       "      <td>0.000000</td>\n",
       "      <td>49.790001</td>\n",
       "    </tr>\n",
       "    <tr>\n",
       "      <th>Total_Extra_Data_Charges</th>\n",
       "      <td>6007.0</td>\n",
       "      <td>7.015149</td>\n",
       "      <td>25.405737</td>\n",
       "      <td>0.000000</td>\n",
       "      <td>0.000000</td>\n",
       "      <td>0.000000</td>\n",
       "      <td>0.000000</td>\n",
       "      <td>150.000000</td>\n",
       "    </tr>\n",
       "    <tr>\n",
       "      <th>Total_Long_Distance_Charges</th>\n",
       "      <td>6007.0</td>\n",
       "      <td>797.283311</td>\n",
       "      <td>854.858840</td>\n",
       "      <td>0.000000</td>\n",
       "      <td>107.084999</td>\n",
       "      <td>470.220001</td>\n",
       "      <td>1269.839966</td>\n",
       "      <td>3564.719971</td>\n",
       "    </tr>\n",
       "    <tr>\n",
       "      <th>Total_Revenue</th>\n",
       "      <td>6007.0</td>\n",
       "      <td>3233.246020</td>\n",
       "      <td>2856.181081</td>\n",
       "      <td>21.610001</td>\n",
       "      <td>833.684998</td>\n",
       "      <td>2367.149902</td>\n",
       "      <td>5105.685059</td>\n",
       "      <td>11979.339844</td>\n",
       "    </tr>\n",
       "  </tbody>\n",
       "</table>\n",
       "</div>"
      ],
      "text/plain": [
       "                              count         mean          std        min  \\\n",
       "Age                          6007.0    47.289163    16.805110  18.000000   \n",
       "Number_of_Referrals          6007.0     7.439820     4.622369   0.000000   \n",
       "Tenure_in_Months             6007.0    17.394540    10.592920   1.000000   \n",
       "Monthly_Charge               6007.0    65.087598    31.067808 -10.000000   \n",
       "Total_Charges                6007.0  2430.986173  2267.481295  19.100000   \n",
       "Total_Refunds                6007.0     2.038612     8.065520   0.000000   \n",
       "Total_Extra_Data_Charges     6007.0     7.015149    25.405737   0.000000   \n",
       "Total_Long_Distance_Charges  6007.0   797.283311   854.858840   0.000000   \n",
       "Total_Revenue                6007.0  3233.246020  2856.181081  21.610001   \n",
       "\n",
       "                                    25%          50%          75%  \\\n",
       "Age                           33.000000    47.000000    60.000000   \n",
       "Number_of_Referrals            3.000000     7.000000    11.000000   \n",
       "Tenure_in_Months               8.000000    17.000000    27.000000   \n",
       "Monthly_Charge                35.950001    71.099998    90.449997   \n",
       "Total_Charges                539.949982  1556.849976  4013.900024   \n",
       "Total_Refunds                  0.000000     0.000000     0.000000   \n",
       "Total_Extra_Data_Charges       0.000000     0.000000     0.000000   \n",
       "Total_Long_Distance_Charges  107.084999   470.220001  1269.839966   \n",
       "Total_Revenue                833.684998  2367.149902  5105.685059   \n",
       "\n",
       "                                      max  \n",
       "Age                             84.000000  \n",
       "Number_of_Referrals             15.000000  \n",
       "Tenure_in_Months                36.000000  \n",
       "Monthly_Charge                 118.750000  \n",
       "Total_Charges                 8684.799805  \n",
       "Total_Refunds                   49.790001  \n",
       "Total_Extra_Data_Charges       150.000000  \n",
       "Total_Long_Distance_Charges   3564.719971  \n",
       "Total_Revenue                11979.339844  "
      ]
     },
     "execution_count": 8,
     "metadata": {},
     "output_type": "execute_result"
    }
   ],
   "source": [
    "data.describe().T"
   ]
  },
  {
   "cell_type": "code",
   "execution_count": 9,
   "metadata": {},
   "outputs": [],
   "source": [
    "columnsToEncode=['Gender', 'State','Married', 'Value_Deal', 'Phone_Service', 'Multiple_Lines',\n",
    "       'Internet_Service', 'Internet_Type', 'Online_Security', 'Online_Backup',\n",
    "       'Device_Protection_Plan', 'Premium_Support', 'Streaming_TV',\n",
    "       'Streaming_Movies', 'Streaming_Music', 'Unlimited_Data', 'Contract',\n",
    "       'Paperless_Billing', 'Payment_Method'\n",
    "       ]"
   ]
  },
  {
   "cell_type": "code",
   "execution_count": 10,
   "metadata": {},
   "outputs": [],
   "source": [
    "Label_encoder={}\n",
    "for column in columnsToEncode:\n",
    "    Label_encoder[column]=LabelEncoder()\n",
    "    data[column]=Label_encoder[column].fit_transform(data[column])\n",
    "\n",
    "    "
   ]
  },
  {
   "cell_type": "code",
   "execution_count": 11,
   "metadata": {},
   "outputs": [
    {
     "data": {
      "text/plain": [
       "{'Gender': LabelEncoder(),\n",
       " 'State': LabelEncoder(),\n",
       " 'Married': LabelEncoder(),\n",
       " 'Value_Deal': LabelEncoder(),\n",
       " 'Phone_Service': LabelEncoder(),\n",
       " 'Multiple_Lines': LabelEncoder(),\n",
       " 'Internet_Service': LabelEncoder(),\n",
       " 'Internet_Type': LabelEncoder(),\n",
       " 'Online_Security': LabelEncoder(),\n",
       " 'Online_Backup': LabelEncoder(),\n",
       " 'Device_Protection_Plan': LabelEncoder(),\n",
       " 'Premium_Support': LabelEncoder(),\n",
       " 'Streaming_TV': LabelEncoder(),\n",
       " 'Streaming_Movies': LabelEncoder(),\n",
       " 'Streaming_Music': LabelEncoder(),\n",
       " 'Unlimited_Data': LabelEncoder(),\n",
       " 'Contract': LabelEncoder(),\n",
       " 'Paperless_Billing': LabelEncoder(),\n",
       " 'Payment_Method': LabelEncoder()}"
      ]
     },
     "execution_count": 11,
     "metadata": {},
     "output_type": "execute_result"
    }
   ],
   "source": [
    "Label_encoder"
   ]
  },
  {
   "cell_type": "code",
   "execution_count": 12,
   "metadata": {},
   "outputs": [],
   "source": [
    "data['Customer_Status']=data['Customer_Status'].map({'Stayed':0,'Churned':1})"
   ]
  },
  {
   "cell_type": "code",
   "execution_count": 15,
   "metadata": {},
   "outputs": [],
   "source": [
    "X=data.drop('Customer_Status',axis=1)\n",
    "y=data['Customer_Status']"
   ]
  },
  {
   "cell_type": "code",
   "execution_count": 16,
   "metadata": {},
   "outputs": [],
   "source": [
    "X_train, X_test,y_train,y_test=train_test_split(X,y,test_size=0.2,random_state=42)"
   ]
  },
  {
   "cell_type": "code",
   "execution_count": 17,
   "metadata": {},
   "outputs": [
    {
     "data": {
      "text/html": [
       "<style>#sk-container-id-1 {color: black;background-color: white;}#sk-container-id-1 pre{padding: 0;}#sk-container-id-1 div.sk-toggleable {background-color: white;}#sk-container-id-1 label.sk-toggleable__label {cursor: pointer;display: block;width: 100%;margin-bottom: 0;padding: 0.3em;box-sizing: border-box;text-align: center;}#sk-container-id-1 label.sk-toggleable__label-arrow:before {content: \"▸\";float: left;margin-right: 0.25em;color: #696969;}#sk-container-id-1 label.sk-toggleable__label-arrow:hover:before {color: black;}#sk-container-id-1 div.sk-estimator:hover label.sk-toggleable__label-arrow:before {color: black;}#sk-container-id-1 div.sk-toggleable__content {max-height: 0;max-width: 0;overflow: hidden;text-align: left;background-color: #f0f8ff;}#sk-container-id-1 div.sk-toggleable__content pre {margin: 0.2em;color: black;border-radius: 0.25em;background-color: #f0f8ff;}#sk-container-id-1 input.sk-toggleable__control:checked~div.sk-toggleable__content {max-height: 200px;max-width: 100%;overflow: auto;}#sk-container-id-1 input.sk-toggleable__control:checked~label.sk-toggleable__label-arrow:before {content: \"▾\";}#sk-container-id-1 div.sk-estimator input.sk-toggleable__control:checked~label.sk-toggleable__label {background-color: #d4ebff;}#sk-container-id-1 div.sk-label input.sk-toggleable__control:checked~label.sk-toggleable__label {background-color: #d4ebff;}#sk-container-id-1 input.sk-hidden--visually {border: 0;clip: rect(1px 1px 1px 1px);clip: rect(1px, 1px, 1px, 1px);height: 1px;margin: -1px;overflow: hidden;padding: 0;position: absolute;width: 1px;}#sk-container-id-1 div.sk-estimator {font-family: monospace;background-color: #f0f8ff;border: 1px dotted black;border-radius: 0.25em;box-sizing: border-box;margin-bottom: 0.5em;}#sk-container-id-1 div.sk-estimator:hover {background-color: #d4ebff;}#sk-container-id-1 div.sk-parallel-item::after {content: \"\";width: 100%;border-bottom: 1px solid gray;flex-grow: 1;}#sk-container-id-1 div.sk-label:hover label.sk-toggleable__label {background-color: #d4ebff;}#sk-container-id-1 div.sk-serial::before {content: \"\";position: absolute;border-left: 1px solid gray;box-sizing: border-box;top: 0;bottom: 0;left: 50%;z-index: 0;}#sk-container-id-1 div.sk-serial {display: flex;flex-direction: column;align-items: center;background-color: white;padding-right: 0.2em;padding-left: 0.2em;position: relative;}#sk-container-id-1 div.sk-item {position: relative;z-index: 1;}#sk-container-id-1 div.sk-parallel {display: flex;align-items: stretch;justify-content: center;background-color: white;position: relative;}#sk-container-id-1 div.sk-item::before, #sk-container-id-1 div.sk-parallel-item::before {content: \"\";position: absolute;border-left: 1px solid gray;box-sizing: border-box;top: 0;bottom: 0;left: 50%;z-index: -1;}#sk-container-id-1 div.sk-parallel-item {display: flex;flex-direction: column;z-index: 1;position: relative;background-color: white;}#sk-container-id-1 div.sk-parallel-item:first-child::after {align-self: flex-end;width: 50%;}#sk-container-id-1 div.sk-parallel-item:last-child::after {align-self: flex-start;width: 50%;}#sk-container-id-1 div.sk-parallel-item:only-child::after {width: 0;}#sk-container-id-1 div.sk-dashed-wrapped {border: 1px dashed gray;margin: 0 0.4em 0.5em 0.4em;box-sizing: border-box;padding-bottom: 0.4em;background-color: white;}#sk-container-id-1 div.sk-label label {font-family: monospace;font-weight: bold;display: inline-block;line-height: 1.2em;}#sk-container-id-1 div.sk-label-container {text-align: center;}#sk-container-id-1 div.sk-container {/* jupyter's `normalize.less` sets `[hidden] { display: none; }` but bootstrap.min.css set `[hidden] { display: none !important; }` so we also need the `!important` here to be able to override the default hidden behavior on the sphinx rendered scikit-learn.org. See: https://github.com/scikit-learn/scikit-learn/issues/21755 */display: inline-block !important;position: relative;}#sk-container-id-1 div.sk-text-repr-fallback {display: none;}</style><div id=\"sk-container-id-1\" class=\"sk-top-container\"><div class=\"sk-text-repr-fallback\"><pre>RandomForestClassifier(random_state=42)</pre><b>In a Jupyter environment, please rerun this cell to show the HTML representation or trust the notebook. <br />On GitHub, the HTML representation is unable to render, please try loading this page with nbviewer.org.</b></div><div class=\"sk-container\" hidden><div class=\"sk-item\"><div class=\"sk-estimator sk-toggleable\"><input class=\"sk-toggleable__control sk-hidden--visually\" id=\"sk-estimator-id-1\" type=\"checkbox\" checked><label for=\"sk-estimator-id-1\" class=\"sk-toggleable__label sk-toggleable__label-arrow\">RandomForestClassifier</label><div class=\"sk-toggleable__content\"><pre>RandomForestClassifier(random_state=42)</pre></div></div></div></div></div>"
      ],
      "text/plain": [
       "RandomForestClassifier(random_state=42)"
      ]
     },
     "execution_count": 17,
     "metadata": {},
     "output_type": "execute_result"
    }
   ],
   "source": [
    "ranforest_model=RandomForestClassifier(n_estimators=100,random_state=42)\n",
    "ranforest_model.fit(X_train,y_train)"
   ]
  },
  {
   "cell_type": "code",
   "execution_count": 18,
   "metadata": {},
   "outputs": [],
   "source": [
    "y_pred=ranforest_model.predict(X_test)\n"
   ]
  },
  {
   "cell_type": "code",
   "execution_count": 20,
   "metadata": {},
   "outputs": [
    {
     "name": "stdout",
     "output_type": "stream",
     "text": [
      "confusion_matrix\n",
      "[[783  64]\n",
      " [126 229]]\n",
      "\n",
      " Classification Report :\n",
      "              precision    recall  f1-score   support\n",
      "\n",
      "           0       0.86      0.92      0.89       847\n",
      "           1       0.78      0.65      0.71       355\n",
      "\n",
      "    accuracy                           0.84      1202\n",
      "   macro avg       0.82      0.78      0.80      1202\n",
      "weighted avg       0.84      0.84      0.84      1202\n",
      "\n"
     ]
    }
   ],
   "source": [
    "print(\"confusion_matrix\")\n",
    "print(confusion_matrix(y_test,y_pred))\n",
    "print(\"\\n Classification Report :\")\n",
    "print(classification_report(y_test,y_pred))"
   ]
  },
  {
   "cell_type": "code",
   "execution_count": 21,
   "metadata": {},
   "outputs": [],
   "source": [
    "importance=ranforest_model.feature_importances_\n",
    "indices=np.argsort(importance)[::-1]\n"
   ]
  },
  {
   "cell_type": "code",
   "execution_count": 22,
   "metadata": {},
   "outputs": [
    {
     "data": {
      "image/png": "[encoded data removed]",
      "text/plain": [
       "<Figure size 1500x600 with 1 Axes>"
      ]
     },
     "metadata": {},
     "output_type": "display_data"
    }
   ],
   "source": [
    "plt.figure(figsize=(15,6))\n",
    "sns.barplot(x=importance[indices],y=X.columns[indices])\n",
    "plt.title('Features Importance')\n",
    "plt.xlabel('Relative Importance')\n",
    "plt.ylabel('Feature Names')\n",
    "plt.show()"
   ]
  },
  {
   "cell_type": "code",
   "execution_count": 24,
   "metadata": {},
   "outputs": [
    {
     "data": {
      "text/html": [
       "<div>\n",
       "<style scoped>\n",
       "    .dataframe tbody tr th:only-of-type {\n",
       "        vertical-align: middle;\n",
       "    }\n",
       "\n",
       "    .dataframe tbody tr th {\n",
       "        vertical-align: top;\n",
       "    }\n",
       "\n",
       "    .dataframe thead th {\n",
       "        text-align: right;\n",
       "    }\n",
       "</style>\n",
       "<table border=\"1\" class=\"dataframe\">\n",
       "  <thead>\n",
       "    <tr style=\"text-align: right;\">\n",
       "      <th></th>\n",
       "      <th>Customer_ID</th>\n",
       "      <th>Gender</th>\n",
       "      <th>Age</th>\n",
       "      <th>Married</th>\n",
       "      <th>State</th>\n",
       "      <th>Number_of_Referrals</th>\n",
       "      <th>Tenure_in_Months</th>\n",
       "      <th>Value_Deal</th>\n",
       "      <th>Phone_Service</th>\n",
       "      <th>Multiple_Lines</th>\n",
       "      <th>...</th>\n",
       "      <th>Payment_Method</th>\n",
       "      <th>Monthly_Charge</th>\n",
       "      <th>Total_Charges</th>\n",
       "      <th>Total_Refunds</th>\n",
       "      <th>Total_Extra_Data_Charges</th>\n",
       "      <th>Total_Long_Distance_Charges</th>\n",
       "      <th>Total_Revenue</th>\n",
       "      <th>Customer_Status</th>\n",
       "      <th>Churn_Category</th>\n",
       "      <th>Churn_Reason</th>\n",
       "    </tr>\n",
       "  </thead>\n",
       "  <tbody>\n",
       "    <tr>\n",
       "      <th>0</th>\n",
       "      <td>11751-TAM</td>\n",
       "      <td>Female</td>\n",
       "      <td>18</td>\n",
       "      <td>No</td>\n",
       "      <td>Tamil Nadu</td>\n",
       "      <td>5</td>\n",
       "      <td>7</td>\n",
       "      <td>Deal 5</td>\n",
       "      <td>No</td>\n",
       "      <td>No</td>\n",
       "      <td>...</td>\n",
       "      <td>Mailed Check</td>\n",
       "      <td>24.299999</td>\n",
       "      <td>38.450001</td>\n",
       "      <td>0.0</td>\n",
       "      <td>0</td>\n",
       "      <td>0.000000</td>\n",
       "      <td>38.450001</td>\n",
       "      <td>Joined</td>\n",
       "      <td>Others</td>\n",
       "      <td>Others</td>\n",
       "    </tr>\n",
       "    <tr>\n",
       "      <th>1</th>\n",
       "      <td>12056-WES</td>\n",
       "      <td>Male</td>\n",
       "      <td>27</td>\n",
       "      <td>No</td>\n",
       "      <td>West Bengal</td>\n",
       "      <td>2</td>\n",
       "      <td>20</td>\n",
       "      <td>None</td>\n",
       "      <td>Yes</td>\n",
       "      <td>No</td>\n",
       "      <td>...</td>\n",
       "      <td>Bank Withdrawal</td>\n",
       "      <td>90.400002</td>\n",
       "      <td>268.450012</td>\n",
       "      <td>0.0</td>\n",
       "      <td>0</td>\n",
       "      <td>94.440002</td>\n",
       "      <td>362.890015</td>\n",
       "      <td>Joined</td>\n",
       "      <td>Others</td>\n",
       "      <td>Others</td>\n",
       "    </tr>\n",
       "    <tr>\n",
       "      <th>2</th>\n",
       "      <td>12136-RAJ</td>\n",
       "      <td>Female</td>\n",
       "      <td>25</td>\n",
       "      <td>Yes</td>\n",
       "      <td>Rajasthan</td>\n",
       "      <td>2</td>\n",
       "      <td>35</td>\n",
       "      <td>None</td>\n",
       "      <td>Yes</td>\n",
       "      <td>No</td>\n",
       "      <td>...</td>\n",
       "      <td>Bank Withdrawal</td>\n",
       "      <td>19.900000</td>\n",
       "      <td>19.900000</td>\n",
       "      <td>0.0</td>\n",
       "      <td>0</td>\n",
       "      <td>11.830000</td>\n",
       "      <td>31.730000</td>\n",
       "      <td>Joined</td>\n",
       "      <td>Others</td>\n",
       "      <td>Others</td>\n",
       "    </tr>\n",
       "    <tr>\n",
       "      <th>3</th>\n",
       "      <td>12257-ASS</td>\n",
       "      <td>Female</td>\n",
       "      <td>39</td>\n",
       "      <td>No</td>\n",
       "      <td>Assam</td>\n",
       "      <td>9</td>\n",
       "      <td>1</td>\n",
       "      <td>None</td>\n",
       "      <td>Yes</td>\n",
       "      <td>No</td>\n",
       "      <td>...</td>\n",
       "      <td>Credit Card</td>\n",
       "      <td>19.549999</td>\n",
       "      <td>19.549999</td>\n",
       "      <td>0.0</td>\n",
       "      <td>0</td>\n",
       "      <td>10.200000</td>\n",
       "      <td>29.750000</td>\n",
       "      <td>Joined</td>\n",
       "      <td>Others</td>\n",
       "      <td>Others</td>\n",
       "    </tr>\n",
       "    <tr>\n",
       "      <th>4</th>\n",
       "      <td>12340-DEL</td>\n",
       "      <td>Female</td>\n",
       "      <td>51</td>\n",
       "      <td>Yes</td>\n",
       "      <td>Delhi</td>\n",
       "      <td>0</td>\n",
       "      <td>10</td>\n",
       "      <td>None</td>\n",
       "      <td>Yes</td>\n",
       "      <td>No</td>\n",
       "      <td>...</td>\n",
       "      <td>Credit Card</td>\n",
       "      <td>62.799999</td>\n",
       "      <td>62.799999</td>\n",
       "      <td>0.0</td>\n",
       "      <td>0</td>\n",
       "      <td>42.189999</td>\n",
       "      <td>104.989998</td>\n",
       "      <td>Joined</td>\n",
       "      <td>Others</td>\n",
       "      <td>Others</td>\n",
       "    </tr>\n",
       "  </tbody>\n",
       "</table>\n",
       "<p>5 rows × 32 columns</p>\n",
       "</div>"
      ],
      "text/plain": [
       "  Customer_ID  Gender  Age Married        State  Number_of_Referrals  \\\n",
       "0   11751-TAM  Female   18      No   Tamil Nadu                    5   \n",
       "1   12056-WES    Male   27      No  West Bengal                    2   \n",
       "2   12136-RAJ  Female   25     Yes    Rajasthan                    2   \n",
       "3   12257-ASS  Female   39      No        Assam                    9   \n",
       "4   12340-DEL  Female   51     Yes        Delhi                    0   \n",
       "\n",
       "   Tenure_in_Months Value_Deal Phone_Service Multiple_Lines  ...  \\\n",
       "0                 7     Deal 5            No             No  ...   \n",
       "1                20       None           Yes             No  ...   \n",
       "2                35       None           Yes             No  ...   \n",
       "3                 1       None           Yes             No  ...   \n",
       "4                10       None           Yes             No  ...   \n",
       "\n",
       "    Payment_Method Monthly_Charge Total_Charges Total_Refunds  \\\n",
       "0     Mailed Check      24.299999     38.450001           0.0   \n",
       "1  Bank Withdrawal      90.400002    268.450012           0.0   \n",
       "2  Bank Withdrawal      19.900000     19.900000           0.0   \n",
       "3      Credit Card      19.549999     19.549999           0.0   \n",
       "4      Credit Card      62.799999     62.799999           0.0   \n",
       "\n",
       "  Total_Extra_Data_Charges Total_Long_Distance_Charges Total_Revenue  \\\n",
       "0                        0                    0.000000     38.450001   \n",
       "1                        0                   94.440002    362.890015   \n",
       "2                        0                   11.830000     31.730000   \n",
       "3                        0                   10.200000     29.750000   \n",
       "4                        0                   42.189999    104.989998   \n",
       "\n",
       "  Customer_Status Churn_Category Churn_Reason  \n",
       "0          Joined         Others       Others  \n",
       "1          Joined         Others       Others  \n",
       "2          Joined         Others       Others  \n",
       "3          Joined         Others       Others  \n",
       "4          Joined         Others       Others  \n",
       "\n",
       "[5 rows x 32 columns]"
      ]
     },
     "execution_count": 24,
     "metadata": {},
     "output_type": "execute_result"
    }
   ],
   "source": [
    "file_path=r\"D:\\powerbi customer churn analysis\\Data\\PredictiveData.xlsx\"\n",
    "sheet_name='vw_JoinData'\n",
    "df=pd.read_excel(filepath,sheet_name=sheet_name)\n",
    "\n",
    "df.head()"
   ]
  },
  {
   "cell_type": "code",
   "execution_count": 25,
   "metadata": {},
   "outputs": [],
   "source": [
    "original_data=df.copy()"
   ]
  },
  {
   "cell_type": "code",
   "execution_count": 28,
   "metadata": {},
   "outputs": [],
   "source": [
    "customer_ids=df['Customer_ID']\n",
    "df=df.drop(['Customer_ID','Customer_Status','Churn_Category','Churn_Reason'],axis=1)"
   ]
  },
  {
   "cell_type": "code",
   "execution_count": 29,
   "metadata": {},
   "outputs": [],
   "source": [
    "for column in df.select_dtypes(include=['object']).columns:\n",
    "    df[column]=Label_encoder[column].transform(df[column])\n",
    "    "
   ]
  },
  {
   "cell_type": "code",
   "execution_count": 30,
   "metadata": {},
   "outputs": [],
   "source": [
    "prediction=ranforest_model.predict(df)\n"
   ]
  },
  {
   "cell_type": "code",
   "execution_count": 31,
   "metadata": {},
   "outputs": [],
   "source": [
    "original_data['Customer_Status_Predicted']=prediction"
   ]
  },
  {
   "cell_type": "code",
   "execution_count": 32,
   "metadata": {},
   "outputs": [],
   "source": [
    "original_data=original_data[original_data['Customer_Status_Predicted']==1]"
   ]
  },
  {
   "cell_type": "code",
   "execution_count": 33,
   "metadata": {},
   "outputs": [],
   "source": [
    "original_data.to_csv(r\"D:\\powerbi customer churn analysis\\Data\\Predictive.csv\")"
   ]
  },
  {
   "cell_type": "code",
   "execution_count": null,
   "metadata": {},
   "outputs": [],
   "source": []
  }
 ],
 "metadata": {
  "kernelspec": {
   "display_name": "base",
   "language": "python",
   "name": "python3"
  },
  "language_info": {
   "codemirror_mode": {
    "name": "ipython",
    "version": 3
   },
   "file_extension": ".py",
   "mimetype": "text/x-python",
   "name": "python",
   "nbconvert_exporter": "python",
   "pygments_lexer": "ipython3",
   "version": "3.10.9"
  }
 },
 "nbformat": 4,
 "nbformat_minor": 2
}
